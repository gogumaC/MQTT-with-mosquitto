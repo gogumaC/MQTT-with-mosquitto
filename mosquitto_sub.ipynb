{
  "nbformat": 4,
  "nbformat_minor": 0,
  "metadata": {
    "colab": {
      "provenance": [],
      "authorship_tag": "ABX9TyP+G2rD8772vBbXUyV+EiEY",
      "include_colab_link": true
    },
    "kernelspec": {
      "name": "python3",
      "display_name": "Python 3"
    },
    "language_info": {
      "name": "python"
    }
  },
  "cells": [
    {
      "cell_type": "markdown",
      "metadata": {
        "id": "view-in-github",
        "colab_type": "text"
      },
      "source": [
        "<a href=\"https://colab.research.google.com/github/gogumaC/MQTT-with-mosquitto/blob/main/mosquitto_sub.ipynb\" target=\"_parent\"><img src=\"https://colab.research.google.com/assets/colab-badge.svg\" alt=\"Open In Colab\"/></a>"
      ]
    },
    {
      "cell_type": "code",
      "execution_count": null,
      "metadata": {
        "colab": {
          "base_uri": "https://localhost:8080/",
          "height": 394
        },
        "id": "2oBmoNstYOUQ",
        "outputId": "127e463f-36d7-42a1-edcc-f3deb184273c"
      },
      "outputs": [
        {
          "output_type": "error",
          "ename": "ModuleNotFoundError",
          "evalue": "ignored",
          "traceback": [
            "\u001b[0;31m---------------------------------------------------------------------------\u001b[0m",
            "\u001b[0;31mModuleNotFoundError\u001b[0m                       Traceback (most recent call last)",
            "\u001b[0;32m<ipython-input-1-7b39858b762e>\u001b[0m in \u001b[0;36m<module>\u001b[0;34m\u001b[0m\n\u001b[1;32m      3\u001b[0m \u001b[0;34m\u001b[0m\u001b[0m\n\u001b[1;32m      4\u001b[0m \u001b[0;32mimport\u001b[0m \u001b[0mos\u001b[0m\u001b[0;34m\u001b[0m\u001b[0;34m\u001b[0m\u001b[0m\n\u001b[0;32m----> 5\u001b[0;31m \u001b[0;32mimport\u001b[0m \u001b[0mpaho\u001b[0m\u001b[0;34m.\u001b[0m\u001b[0mmqtt\u001b[0m\u001b[0;34m.\u001b[0m\u001b[0mclient\u001b[0m \u001b[0;32mas\u001b[0m \u001b[0mmqtt\u001b[0m\u001b[0;34m\u001b[0m\u001b[0;34m\u001b[0m\u001b[0m\n\u001b[0m\u001b[1;32m      6\u001b[0m \u001b[0;34m\u001b[0m\u001b[0m\n\u001b[1;32m      7\u001b[0m \u001b[0;32mdef\u001b[0m \u001b[0mon_connect\u001b[0m\u001b[0;34m(\u001b[0m\u001b[0mclient\u001b[0m\u001b[0;34m,\u001b[0m\u001b[0muserdata\u001b[0m\u001b[0;34m,\u001b[0m\u001b[0mflag\u001b[0m\u001b[0;34m,\u001b[0m\u001b[0mrc\u001b[0m\u001b[0;34m)\u001b[0m\u001b[0;34m:\u001b[0m\u001b[0;34m\u001b[0m\u001b[0;34m\u001b[0m\u001b[0m\n",
            "\u001b[0;31mModuleNotFoundError\u001b[0m: No module named 'paho'",
            "",
            "\u001b[0;31m---------------------------------------------------------------------------\u001b[0;32m\nNOTE: If your import is failing due to a missing package, you can\nmanually install dependencies using either !pip or !apt.\n\nTo view examples of installing some common dependencies, click the\n\"Open Examples\" button below.\n\u001b[0;31m---------------------------------------------------------------------------\u001b[0m\n"
          ],
          "errorDetails": {
            "actions": [
              {
                "action": "open_url",
                "actionText": "Open Examples",
                "url": "/notebooks/snippets/importing_libraries.ipynb"
              }
            ]
          }
        }
      ],
      "source": [
        "import pandas as pd\n",
        "import numpy as np\n",
        "import os\n",
        "import paho.mqtt.client as mqtt\n",
        "\n",
        "f=open(\"rawBusanTemp.csv\",\"w\",encoding=\"UTF-8\")\n",
        "\n",
        "def on_connect(client,userdata,flag,rc):\n",
        "  client.subscribe(\"busan/temp\")\n",
        "  print(\"connected\"+str(rc))\n",
        "\n",
        "def on_disconnect(client,userdat,flags,rc=0):\n",
        "  f.colse()\n",
        "  print(\"disconnected\"+str(rc))\n",
        "\n",
        "def on_message(client,userdata,msg):\n",
        "  subMsg=str(msg.payload).replace(':',\"'\")\n",
        "  split=subMsg.split(\"'\")\n",
        "  date=split[1]\n",
        "  temp=split[2]\n",
        "  print(\"DATE->\"+date+\" | TEMP->\" +temp)\n",
        "  data=date+\",\"+temp+\"\\n\"\n",
        "  f.write(data)\n",
        "\n",
        "client=mqtt.client()\n",
        "client.on_connect=on_connect\n",
        "client.on_message=on_message\n",
        "client.on_disconnect=on_disconnect\n",
        "\n",
        "\n",
        "maxInputCount=365\n",
        "f.write(\"date,avgTemp\\n\")\n",
        "\n",
        "client.connect(\"10.0.2.4\")\n",
        "client.loop_forever()\n",
        "\n"
      ]
    }
  ]
}