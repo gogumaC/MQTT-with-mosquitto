{
  "nbformat": 4,
  "nbformat_minor": 0,
  "metadata": {
    "colab": {
      "provenance": [],
      "authorship_tag": "ABX9TyPmBu6Lp+ujo5kmnzcm8juo",
      "include_colab_link": true
    },
    "kernelspec": {
      "name": "python3",
      "display_name": "Python 3"
    },
    "language_info": {
      "name": "python"
    }
  },
  "cells": [
    {
      "cell_type": "markdown",
      "metadata": {
        "id": "view-in-github",
        "colab_type": "text"
      },
      "source": [
        "<a href=\"https://colab.research.google.com/github/gogumaC/MQTT-with-mosquitto/blob/main/mosquitto_pub.ipynb\" target=\"_parent\"><img src=\"https://colab.research.google.com/assets/colab-badge.svg\" alt=\"Open In Colab\"/></a>"
      ]
    },
    {
      "cell_type": "code",
      "execution_count": null,
      "metadata": {
        "id": "ScoarilrknB8"
      },
      "outputs": [],
      "source": [
        "import pandas as pd\n",
        "import numpy as np\n",
        "import time\n",
        "import threading\n",
        "import os\n",
        "\n",
        "np.random.seed(0)\n",
        "df=pd.read_csv('busanTemp2021',encoding='CP949')\n",
        "timeCounter=0\n",
        "\n",
        "def publishTemp():\n",
        "  global timeCounter\n",
        "  index=timeCounter%365\n",
        "  date=str(df['date']['index'])\n",
        "  temp=str(df['avgTemp'][index])\n",
        "  if(isMissing()): \n",
        "    msg=\"'\"+date+\":\"+\"'\"\n",
        "    os.system('mosquitto_pub -t busan/temp -m '+msg)\n",
        "    print(msg)\n",
        "  else :  \n",
        "    msg=\"'\"+date+\":\"+temp+\"'\"\n",
        "    os.system('mosquitto_pub -t busan/temp -m '+msg)\n",
        "    print(msg)\n",
        "  if(timeCounter<365) : threading.Timer(1,publishTemp).start()\n",
        "  timeCounter+=1\n",
        "\n",
        "def isMissing():\n",
        "  rand=np.random.randint(100)\n",
        "  if(rand<95) : return False\n",
        "  else : return True\n",
        "\n",
        "publishTemp()\n"
      ]
    }
  ]
}